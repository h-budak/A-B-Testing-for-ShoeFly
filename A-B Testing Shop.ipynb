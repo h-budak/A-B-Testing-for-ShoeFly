{
 "cells": [
  {
   "cell_type": "code",
   "execution_count": 33,
   "source": [
    "import pandas as pd"
   ],
   "outputs": [],
   "metadata": {}
  },
  {
   "cell_type": "code",
   "execution_count": 34,
   "source": [
    "ad_clicks = pd.read_csv('ad_clicks.csv')\\\r\n",
    "\r\n",
    "print(ad_clicks.head())"
   ],
   "outputs": [
    {
     "output_type": "stream",
     "name": "stdout",
     "text": [
      "                                user_id utm_source           day  \\\n",
      "0  008b7c6c-7272-471e-b90e-930d548bd8d7     google  6 - Saturday   \n",
      "1  009abb94-5e14-4b6c-bb1c-4f4df7aa7557   facebook    7 - Sunday   \n",
      "2  00f5d532-ed58-4570-b6d2-768df5f41aed    twitter   2 - Tuesday   \n",
      "3  011adc64-0f44-4fd9-a0bb-f1506d2ad439     google   2 - Tuesday   \n",
      "4  012137e6-7ae7-4649-af68-205b4702169c   facebook    7 - Sunday   \n",
      "\n",
      "  ad_click_timestamp experimental_group  \n",
      "0               7:18                  A  \n",
      "1                NaN                  B  \n",
      "2                NaN                  A  \n",
      "3                NaN                  B  \n",
      "4                NaN                  B  \n"
     ]
    }
   ],
   "metadata": {}
  },
  {
   "cell_type": "code",
   "execution_count": 35,
   "source": [
    "#which ad platform is getting the most views  \r\n",
    "ad_clicks.groupby('utm_source')\\\r\n",
    "    .user_id.count()\\\r\n",
    "    .reset_index()"
   ],
   "outputs": [
    {
     "output_type": "execute_result",
     "data": {
      "text/plain": [
       "  utm_source  user_id\n",
       "0      email      255\n",
       "1   facebook      504\n",
       "2     google      680\n",
       "3    twitter      215"
      ],
      "text/html": [
       "<div>\n",
       "<style scoped>\n",
       "    .dataframe tbody tr th:only-of-type {\n",
       "        vertical-align: middle;\n",
       "    }\n",
       "\n",
       "    .dataframe tbody tr th {\n",
       "        vertical-align: top;\n",
       "    }\n",
       "\n",
       "    .dataframe thead th {\n",
       "        text-align: right;\n",
       "    }\n",
       "</style>\n",
       "<table border=\"1\" class=\"dataframe\">\n",
       "  <thead>\n",
       "    <tr style=\"text-align: right;\">\n",
       "      <th></th>\n",
       "      <th>utm_source</th>\n",
       "      <th>user_id</th>\n",
       "    </tr>\n",
       "  </thead>\n",
       "  <tbody>\n",
       "    <tr>\n",
       "      <th>0</th>\n",
       "      <td>email</td>\n",
       "      <td>255</td>\n",
       "    </tr>\n",
       "    <tr>\n",
       "      <th>1</th>\n",
       "      <td>facebook</td>\n",
       "      <td>504</td>\n",
       "    </tr>\n",
       "    <tr>\n",
       "      <th>2</th>\n",
       "      <td>google</td>\n",
       "      <td>680</td>\n",
       "    </tr>\n",
       "    <tr>\n",
       "      <th>3</th>\n",
       "      <td>twitter</td>\n",
       "      <td>215</td>\n",
       "    </tr>\n",
       "  </tbody>\n",
       "</table>\n",
       "</div>"
      ]
     },
     "metadata": {},
     "execution_count": 35
    }
   ],
   "metadata": {}
  },
  {
   "cell_type": "code",
   "execution_count": 36,
   "source": [
    "# a new column, which is True if ad_click_timestamp is not null \r\n",
    "ad_clicks['is_click'] = ~ad_clicks\\\r\n",
    "   .ad_click_timestamp.isnull()"
   ],
   "outputs": [],
   "metadata": {}
  },
  {
   "cell_type": "code",
   "execution_count": 37,
   "source": [
    "print(ad_clicks)"
   ],
   "outputs": [
    {
     "output_type": "stream",
     "name": "stdout",
     "text": [
      "                                   user_id utm_source            day  \\\n",
      "0     008b7c6c-7272-471e-b90e-930d548bd8d7     google   6 - Saturday   \n",
      "1     009abb94-5e14-4b6c-bb1c-4f4df7aa7557   facebook     7 - Sunday   \n",
      "2     00f5d532-ed58-4570-b6d2-768df5f41aed    twitter    2 - Tuesday   \n",
      "3     011adc64-0f44-4fd9-a0bb-f1506d2ad439     google    2 - Tuesday   \n",
      "4     012137e6-7ae7-4649-af68-205b4702169c   facebook     7 - Sunday   \n",
      "...                                    ...        ...            ...   \n",
      "1649  fe8b5236-78f6-4192-9da6-a76bba67cfe6    twitter     7 - Sunday   \n",
      "1650  fed3db6d-8c92-40e3-a4fb-1fb9d7337eb1   facebook     5 - Friday   \n",
      "1651  ff3a22ff-521c-478c-87ca-7dc7b8f34372    twitter  3 - Wednesday   \n",
      "1652  ff3af0d6-b092-4c4d-9f2e-2bdd8f7c0732     google     1 - Monday   \n",
      "1653  ffdfe7ec-0c74-4623-8d90-d95d80f1ba34   facebook   6 - Saturday   \n",
      "\n",
      "     ad_click_timestamp experimental_group  is_click  \n",
      "0                  7:18                  A      True  \n",
      "1                   NaN                  B     False  \n",
      "2                   NaN                  A     False  \n",
      "3                   NaN                  B     False  \n",
      "4                   NaN                  B     False  \n",
      "...                 ...                ...       ...  \n",
      "1649                NaN                  A     False  \n",
      "1650                NaN                  B     False  \n",
      "1651                NaN                  B     False  \n",
      "1652              22:57                  A      True  \n",
      "1653                NaN                  B     False  \n",
      "\n",
      "[1654 rows x 6 columns]\n"
     ]
    }
   ],
   "metadata": {}
  },
  {
   "cell_type": "code",
   "execution_count": 38,
   "source": [
    "# the percent of people who clicked on ads from each utm_source. Grouping by utm_source and is_click and counting the number of user_ids in each of those groups.\r\n",
    "clicks_by_source = ad_clicks\\\r\n",
    "   .groupby(['utm_source',\r\n",
    "             'is_click'])\\\r\n",
    "   .user_id.count()\\\r\n",
    "   .reset_index()"
   ],
   "outputs": [],
   "metadata": {}
  },
  {
   "cell_type": "code",
   "execution_count": 39,
   "source": [
    "print(clicks_by_source)"
   ],
   "outputs": [
    {
     "output_type": "stream",
     "name": "stdout",
     "text": [
      "  utm_source  is_click  user_id\n",
      "0      email     False      175\n",
      "1      email      True       80\n",
      "2   facebook     False      324\n",
      "3   facebook      True      180\n",
      "4     google     False      441\n",
      "5     google      True      239\n",
      "6    twitter     False      149\n",
      "7    twitter      True       66\n"
     ]
    }
   ],
   "metadata": {}
  },
  {
   "cell_type": "code",
   "execution_count": 40,
   "source": [
    "# pivot the data so that the columns are is_click (either True or False), the index is utm_source, and the values are user_id\r\n",
    "clicks_pivot = clicks_by_source\\\r\n",
    "   .pivot(index='utm_source',\r\n",
    "          columns='is_click',\r\n",
    "          values='user_id')\\\r\n",
    "   .reset_index()\r\n",
    "print(clicks_pivot)"
   ],
   "outputs": [
    {
     "output_type": "stream",
     "name": "stdout",
     "text": [
      "is_click utm_source  False  True\n",
      "0             email    175    80\n",
      "1          facebook    324   180\n",
      "2            google    441   239\n",
      "3           twitter    149    66\n"
     ]
    }
   ],
   "metadata": {}
  },
  {
   "cell_type": "code",
   "execution_count": 41,
   "source": [
    "#percent of users who clicked on the ad from each utm_source\r\n",
    "clicks_pivot['percent_clicked'] = \\\r\n",
    "   clicks_pivot[True] / \\\r\n",
    "   (clicks_pivot[True] + \r\n",
    "    clicks_pivot[False])\r\n",
    "print(clicks_pivot['percent_clicked'])"
   ],
   "outputs": [
    {
     "output_type": "stream",
     "name": "stdout",
     "text": [
      "0    0.313725\n",
      "1    0.357143\n",
      "2    0.351471\n",
      "3    0.306977\n",
      "Name: percent_clicked, dtype: float64\n"
     ]
    }
   ],
   "metadata": {}
  }
 ],
 "metadata": {
  "kernelspec": {
   "name": "python3",
   "display_name": "Python 3.9.6 64-bit"
  },
  "language_info": {
   "codemirror_mode": {
    "name": "ipython",
    "version": 3
   },
   "file_extension": ".py",
   "mimetype": "text/x-python",
   "name": "python",
   "nbconvert_exporter": "python",
   "pygments_lexer": "ipython3",
   "version": "3.9.6"
  },
  "interpreter": {
   "hash": "e4b42aaf920507b6c79f02f50e735f729b9c4d44cff35d2f3684ba1eb96053a0"
  }
 },
 "nbformat": 4,
 "nbformat_minor": 5
}